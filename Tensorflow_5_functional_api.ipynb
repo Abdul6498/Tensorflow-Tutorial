{
 "cells": [
  {
   "cell_type": "code",
   "execution_count": 1,
   "metadata": {},
   "outputs": [],
   "source": [
    "import os\n",
    "os.environ['TF_CPP_MIN_LOG_LEVEL'] = '2'\n",
    "import tensorflow as tf"
   ]
  },
  {
   "cell_type": "code",
   "execution_count": 2,
   "metadata": {},
   "outputs": [],
   "source": [
    "from tensorflow import keras\n",
    "from tensorflow.keras import layers, regularizers\n",
    "from tensorflow.keras.datasets import mnist\n",
    "import pandas as pd"
   ]
  },
  {
   "cell_type": "code",
   "execution_count": 3,
   "metadata": {},
   "outputs": [],
   "source": [
    "physical_devices =  tf.config.list_physical_devices('GPU')\n",
    "tf.config.experimental.set_memory_growth(physical_devices[0], enable=True)"
   ]
  },
  {
   "cell_type": "code",
   "execution_count": 5,
   "metadata": {},
   "outputs": [],
   "source": [
    "# HYPERPARAMETERS\n",
    "BATCH_SIZE = 64\n",
    "WEIGHT_DECAY = 0.001\n",
    "LEARNING_RATE = 0.001"
   ]
  },
  {
   "cell_type": "code",
   "execution_count": 16,
   "metadata": {},
   "outputs": [],
   "source": [
    "train_df = pd.read_csv(\"Multi_Digit_Mnist/train.csv\")\n",
    "test_df = pd.read_csv(\"Multi_Digit_Mnist/test.csv\")\n",
    "train_images = os.getcwd() + \"/Multi_Digit_Mnist/train_images/\" + train_df.iloc[:, 0].values\n",
    "test_images = os.getcwd() + \"/Multi_Digit_Mnist/test_images/\" + test_df.iloc[:, 0].values\n",
    "\n",
    "train_labels = train_df.iloc[:, 1:].values\n",
    "test_labels = test_df.iloc[:, 1:].values\n",
    "\n",
    "\n",
    "def read_image(image_path, label):\n",
    "    image = tf.io.read_file(image_path)\n",
    "    image = tf.image.decode_image(image, channels=1, dtype=tf.float32)\n",
    "\n",
    "    # In older versions you need to set shape in order to avoid error\n",
    "    # on newer (2.3.0+) the following 3 lines can safely be removed\n",
    "    image.set_shape((64, 64, 1))\n",
    "    label[0].set_shape([])\n",
    "    label[1].set_shape([])\n",
    "\n",
    "    labels = {\"first_num\": label[0], \"second_num\": label[1]}\n",
    "    return image, labels\n",
    "\n",
    "\n",
    "AUTOTUNE = tf.data.experimental.AUTOTUNE\n",
    "train_dataset = tf.data.Dataset.from_tensor_slices((train_images, train_labels))\n",
    "train_dataset = (\n",
    "    train_dataset.shuffle(buffer_size=len(train_labels))\n",
    "    .map(read_image)\n",
    "    .batch(batch_size=BATCH_SIZE)\n",
    "    .prefetch(buffer_size=AUTOTUNE)\n",
    ")\n",
    "\n",
    "test_dataset = tf.data.Dataset.from_tensor_slices((test_images, test_labels))\n",
    "test_dataset = (\n",
    "    test_dataset.map(read_image)\n",
    "    .batch(batch_size=BATCH_SIZE)\n",
    "    .prefetch(buffer_size=AUTOTUNE)\n",
    ")"
   ]
  },
  {
   "cell_type": "code",
   "execution_count": 17,
   "metadata": {},
   "outputs": [
    {
     "name": "stdout",
     "output_type": "stream",
     "text": [
      "Epoch 1/5\n",
      "1000/1000 - 59s - loss: 1.7979 - first_num_loss: 0.8611 - second_num_loss: 0.8554 - first_num_accuracy: 0.6983 - second_num_accuracy: 0.6987 - 59s/epoch - 59ms/step\n",
      "Epoch 2/5\n",
      "1000/1000 - 68s - loss: 0.5133 - first_num_loss: 0.2254 - second_num_loss: 0.2233 - first_num_accuracy: 0.9263 - second_num_accuracy: 0.9274 - 68s/epoch - 68ms/step\n",
      "Epoch 3/5\n",
      "1000/1000 - 56s - loss: 0.3441 - first_num_loss: 0.1466 - second_num_loss: 0.1405 - first_num_accuracy: 0.9533 - second_num_accuracy: 0.9551 - 56s/epoch - 56ms/step\n",
      "Epoch 4/5\n",
      "1000/1000 - 50s - loss: 0.2653 - first_num_loss: 0.1069 - second_num_loss: 0.1054 - first_num_accuracy: 0.9660 - second_num_accuracy: 0.9659 - 50s/epoch - 50ms/step\n",
      "Epoch 5/5\n",
      "1000/1000 - 48s - loss: 0.2230 - first_num_loss: 0.0905 - second_num_loss: 0.0837 - first_num_accuracy: 0.9721 - second_num_accuracy: 0.9731 - 48s/epoch - 48ms/step\n",
      "313/313 - 7s - loss: 0.9414 - first_num_loss: 0.3218 - second_num_loss: 0.5720 - first_num_accuracy: 0.9097 - second_num_accuracy: 0.8511 - 7s/epoch - 21ms/step\n"
     ]
    },
    {
     "data": {
      "text/plain": [
       "[0.9414374828338623,\n",
       " 0.32180291414260864,\n",
       " 0.5720217227935791,\n",
       " 0.9096500277519226,\n",
       " 0.8511499762535095]"
      ]
     },
     "execution_count": 17,
     "metadata": {},
     "output_type": "execute_result"
    }
   ],
   "source": [
    "#Functional API\n",
    "inputs = keras.Input(shape=(64,64,1))\n",
    "x = layers.Conv2D(\n",
    "    filters=32,\n",
    "    kernel_size=3,\n",
    "    padding=\"same\",\n",
    "    kernel_regularizer=regularizers.l2(WEIGHT_DECAY),\n",
    ")(inputs)\n",
    "x = layers.BatchNormalization()(x)\n",
    "x = keras.activations.relu(x)\n",
    "x = layers.Conv2D(64, 3, kernel_regularizer=regularizers.l2(WEIGHT_DECAY),)(x)\n",
    "x = layers.BatchNormalization()(x)\n",
    "x = keras.activations.relu(x)\n",
    "x = layers.MaxPooling2D()(x)\n",
    "x = layers.Conv2D(\n",
    "    64, 3, activation=\"relu\", kernel_regularizer=regularizers.l2(WEIGHT_DECAY),\n",
    ")(x)\n",
    "x = layers.Conv2D(128, 3, activation = 'relu')(x)\n",
    "x = layers.MaxPooling2D()(x)\n",
    "x = layers.Flatten()(x)\n",
    "x = layers.Dense(128, activation='relu')(x)\n",
    "x = layers.Dropout(0.5)(x)\n",
    "x = layers.Dense(64, activation = 'relu')(x)\n",
    "output1 = layers.Dense(10, activation = 'softmax', name='first_num')(x)\n",
    "output2 = layers.Dense(10, activation = 'softmax', name='second_num')(x)\n",
    "\n",
    "model = keras.Model(inputs=inputs, outputs = [output1, output2])\n",
    "\n",
    "model.compile(\n",
    "    optimizer=keras.optimizers.Adam(LEARNING_RATE),\n",
    "    loss=keras.losses.SparseCategoricalCrossentropy(),\n",
    "    metrics=[\"accuracy\"],\n",
    ")\n",
    "\n",
    "model.fit(train_dataset, epochs=5, verbose=2)\n",
    "model.evaluate(test_dataset, verbose=2)"
   ]
  }
 ],
 "metadata": {
  "interpreter": {
   "hash": "5605bb67e93225c6ae5eb49f24da2ebaff2ea2daace0bd025e4eaef9132299fe"
  },
  "kernelspec": {
   "display_name": "Python 3.8.0 ('tf2.x')",
   "language": "python",
   "name": "python3"
  },
  "language_info": {
   "codemirror_mode": {
    "name": "ipython",
    "version": 3
   },
   "file_extension": ".py",
   "mimetype": "text/x-python",
   "name": "python",
   "nbconvert_exporter": "python",
   "pygments_lexer": "ipython3",
   "version": "3.8.0"
  },
  "orig_nbformat": 4
 },
 "nbformat": 4,
 "nbformat_minor": 2
}
