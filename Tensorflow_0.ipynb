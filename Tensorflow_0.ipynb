{
 "cells": [
  {
   "cell_type": "code",
   "execution_count": 37,
   "metadata": {},
   "outputs": [],
   "source": [
    "import os\n",
    "os.environ['TF_CPP_MIN_LOG_LEVEL'] = '2'\n",
    "import tensorflow as tf\n",
    "physical_devices =  tf.config.list_physical_devices('GPU')\n",
    "#tf.config.experimental.set_memory_growth(physical_devices[0], enable=True)\n"
   ]
  },
  {
   "cell_type": "markdown",
   "metadata": {},
   "source": [
    "Initialization of Tensors\n",
    "Mathematical Operations\n",
    "Indexing\n",
    "Reshaping"
   ]
  },
  {
   "cell_type": "code",
   "execution_count": 22,
   "metadata": {},
   "outputs": [
    {
     "name": "stdout",
     "output_type": "stream",
     "text": [
      "tf.Tensor([[4.]], shape=(1, 1), dtype=float32)\n",
      "tf.Tensor(\n",
      "[[1 2 3]\n",
      " [4 5 6]], shape=(2, 3), dtype=int32)\n",
      "tf.Tensor(\n",
      "[[1. 1. 1.]\n",
      " [1. 1. 1.]\n",
      " [1. 1. 1.]], shape=(3, 3), dtype=float32)\n",
      "tf.Tensor(\n",
      "[[1. 0. 0.]\n",
      " [0. 1. 0.]\n",
      " [0. 0. 1.]], shape=(3, 3), dtype=float32)\n",
      "tf.Tensor([1 3 5 7 9], shape=(5,), dtype=int32)\n",
      "tf.Tensor([1. 3. 5. 7. 9.], shape=(5,), dtype=float64)\n"
     ]
    }
   ],
   "source": [
    "#initialization of tensors\n",
    "x = tf.constant(4, shape=(1,1), dtype=tf.float32) #matrix tensor\n",
    "print(x)\n",
    "t = tf.constant([[1,2,3], [4,5,6]]) #list, also create 2x3 matrix\n",
    "print(t)\n",
    "\n",
    "x = tf.ones((3,3))\n",
    "print(x)\n",
    "x = tf.zeros((2,3))\n",
    "x = tf.eye(3) # identity matrix\n",
    "print(x)\n",
    "x = tf.random.normal((3,3), mean= 0, stddev=1)\n",
    "x = tf.random.uniform((1,3), minval=0, maxval=1)\n",
    "x = tf.range(start=1, limit=10, delta=2)\n",
    "print(x) # range of vectors\n",
    "\n",
    "x = tf.cast(x, dtype=tf.float64) #type casting\n",
    "# tf.float(16,32,64), tf.int(8,16,32,64), tf.bool\n",
    "print(x)"
   ]
  },
  {
   "cell_type": "code",
   "execution_count": 38,
   "metadata": {},
   "outputs": [
    {
     "name": "stdout",
     "output_type": "stream",
     "text": [
      "tf.Tensor([10 10 10], shape=(3,), dtype=int32)\n",
      "tf.Tensor([10 10 10], shape=(3,), dtype=int32)\n",
      "tf.Tensor([-8 -6 -4], shape=(3,), dtype=int32)\n",
      "tf.Tensor(46, shape=(), dtype=int32)\n",
      "tf.Tensor([  1  32 243], shape=(3,), dtype=int32)\n",
      "tf.Tensor(\n",
      "[[-0.44363582  0.83790004 -3.1140447   2.4733343 ]\n",
      " [-1.7620599  -2.8117507   3.545168   -2.60824   ]], shape=(2, 4), dtype=float32)\n"
     ]
    }
   ],
   "source": [
    "#Mathematical operation\n",
    "x = tf.constant([1,2,3])\n",
    "y = tf.constant([9,8,7])\n",
    "\n",
    "#element wise\n",
    "z = tf.add(x,y)\n",
    "print(z)\n",
    "z = x + y\n",
    "print(z)\n",
    "\n",
    "z = tf.subtract(x,y)\n",
    "z = x-y\n",
    "print(z)\n",
    "\n",
    "z = tf.divide(x,y)\n",
    "z = x/y\n",
    "\n",
    "z = tf.multiply(x,y)\n",
    "z = x*y\n",
    "\n",
    "z = tf.tensordot(x,y, axes=1)\n",
    "z = tf.reduce_sum(x*y, axis=0)\n",
    "print(z)\n",
    "\n",
    "z = x**5 #elementwise power\n",
    "print(z)\n",
    "\n",
    "x = tf.random.normal((2,3))\n",
    "y = tf.random.normal((3,4))\n",
    "\n",
    "#Matrix Multiplication\n",
    "z = tf.matmul(x,y)\n",
    "print(z)\n",
    "z = x @ y\n",
    "print(z)"
   ]
  },
  {
   "cell_type": "code",
   "execution_count": 49,
   "metadata": {},
   "outputs": [
    {
     "name": "stdout",
     "output_type": "stream",
     "text": [
      "tf.Tensor([0 2], shape=(2,), dtype=int32)\n"
     ]
    }
   ],
   "source": [
    "#Indexing\n",
    "x = tf.constant([0,1,1,2,3,1,2,3,8,9])\n",
    "# print(x[:])\n",
    "# print(x[1:])\n",
    "# print(x[1:3])\n",
    "# print(x[::2])\n",
    "# print(x[::-1])\n",
    "\n",
    "indices = tf.constant([0, 3])\n",
    "x_ind = tf.gather(x, indices)\n",
    "\n",
    "print(x_ind)"
   ]
  }
 ],
 "metadata": {
  "interpreter": {
   "hash": "9c3f5664403b587791183340fb5ef282c96abe618847035152731d031e93c53a"
  },
  "kernelspec": {
   "display_name": "Python 3.8.10 ('tf2.x')",
   "language": "python",
   "name": "python3"
  },
  "language_info": {
   "codemirror_mode": {
    "name": "ipython",
    "version": 3
   },
   "file_extension": ".py",
   "mimetype": "text/x-python",
   "name": "python",
   "nbconvert_exporter": "python",
   "pygments_lexer": "ipython3",
   "version": "3.8.10"
  },
  "orig_nbformat": 4
 },
 "nbformat": 4,
 "nbformat_minor": 2
}
