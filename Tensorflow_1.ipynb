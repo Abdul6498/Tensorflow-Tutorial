{
 "cells": [
  {
   "cell_type": "code",
   "execution_count": 1,
   "metadata": {},
   "outputs": [],
   "source": [
    "import os\n",
    "os.environ['TF_CPP_MIN_LOG_LEVEL'] = '2'\n",
    "import tensorflow as tf\n",
    "physical_devices =  tf.config.list_physical_devices('GPU')\n",
    "tf.config.experimental.set_memory_growth(physical_devices[0], enable=True)\n"
   ]
  },
  {
   "cell_type": "code",
   "execution_count": 2,
   "metadata": {},
   "outputs": [],
   "source": [
    "from tensorflow import keras\n",
    "from tensorflow.keras import layers\n",
    "from tensorflow.keras.datasets import mnist\n",
    "\n",
    "(x_train, y_train), (x_test, y_test) = mnist.load_data()"
   ]
  },
  {
   "cell_type": "code",
   "execution_count": 3,
   "metadata": {},
   "outputs": [
    {
     "name": "stdout",
     "output_type": "stream",
     "text": [
      "(60000, 784)\n",
      "(60000,)\n"
     ]
    }
   ],
   "source": [
    "#Pre-processing of data, data normalization\n",
    "x_train = x_train.reshape(-1, 28*28).astype(\"float32\") / 255.0\n",
    "x_test = x_test.reshape(-1, 28*28).astype(\"float32\") / 255.0\n",
    "\n",
    "\n",
    "print(x_train.shape)\n",
    "print(y_train.shape)"
   ]
  },
  {
   "cell_type": "code",
   "execution_count": 25,
   "metadata": {},
   "outputs": [
    {
     "name": "stdout",
     "output_type": "stream",
     "text": [
      "Epoch 1/5\n",
      "1875/1875 - 3s - loss: 0.2054 - accuracy: 0.9373 - 3s/epoch - 2ms/step\n",
      "Epoch 2/5\n",
      "1875/1875 - 3s - loss: 0.0961 - accuracy: 0.9710 - 3s/epoch - 1ms/step\n",
      "Epoch 3/5\n",
      "1875/1875 - 3s - loss: 0.0677 - accuracy: 0.9793 - 3s/epoch - 1ms/step\n",
      "Epoch 4/5\n",
      "1875/1875 - 3s - loss: 0.0540 - accuracy: 0.9836 - 3s/epoch - 1ms/step\n",
      "Epoch 5/5\n",
      "1875/1875 - 3s - loss: 0.0451 - accuracy: 0.9863 - 3s/epoch - 1ms/step\n",
      "313/313 - 0s - loss: 0.0843 - accuracy: 0.9771 - 472ms/epoch - 2ms/step\n"
     ]
    },
    {
     "data": {
      "text/plain": [
       "[0.08427920937538147, 0.9771000146865845]"
      ]
     },
     "execution_count": 25,
     "metadata": {},
     "output_type": "execute_result"
    }
   ],
   "source": [
    "#Sequential API (Very convinient, not very flexible)\n",
    "# model = keras.Sequential(\n",
    "#     [\n",
    "#         keras.Input(shape=(28*28)),\n",
    "#         layers.Dense(512, activation='relu'),\n",
    "#         layers.Dense(256, activation= 'relu'),\n",
    "#         layers.Dense(10),\n",
    "#     ]\n",
    "# )\n",
    "# print(model.summary())\n",
    "\n",
    "#Another way\n",
    "model = keras.Sequential()\n",
    "model.add(keras.Input(shape=(784)))\n",
    "model.add(layers.Dense(512, activation='relu', name = 'input_layer'))\n",
    "model.add(layers.Dense(256, activation='relu', name = 'mid_layer_1'))\n",
    "model.add(layers.Dense(128, activation='relu', name = 'mid_layer_2'))\n",
    "model.add(layers.Dense(64, activation='relu', name = 'mid_layer_3'))\n",
    "model.add(layers.Dense(10, activation='softmax', name = 'last_layer'))\n",
    "\n",
    "# model = keras.Model(inputs=model.inputs,\n",
    "#                     outputs=[model.get_layer('last_layer').output])\n",
    "\n",
    "# feature = model.predict(x_train)\n",
    "# print(feature.shape)\n",
    "\n",
    "\n",
    "#Another way Functional API\n",
    "# inputs = keras.Input(shape=(784))\n",
    "# x = layers.Dense(512, activation='relu', name='first_layer')(inputs)\n",
    "# x= layers.Dense(256, activation='relu', name='middle_layer')(x)\n",
    "# outputs= layers.Dense(10, activation='softmax', name='output_layer')(x)\n",
    "# model = keras.Model(inputs=inputs, outputs=outputs)\n",
    "# print(model.summary())\n",
    "model.compile(\n",
    "    loss = keras.losses.SparseCategoricalCrossentropy(from_logits=False),\n",
    "    optimizer= keras.optimizers.Adam(lr=0.001),\n",
    "    metrics=[\"accuracy\"],\n",
    ")\n",
    "\n",
    "model.fit(x_train, y_train, batch_size = 32, epochs=5, verbose=2)\n",
    "model.evaluate(x_test,y_test, batch_size=32, verbose=2)\n",
    "\n"
   ]
  }
 ],
 "metadata": {
  "interpreter": {
   "hash": "9c3f5664403b587791183340fb5ef282c96abe618847035152731d031e93c53a"
  },
  "kernelspec": {
   "display_name": "Python 3.8.10 ('tf2.x')",
   "language": "python",
   "name": "python3"
  },
  "language_info": {
   "codemirror_mode": {
    "name": "ipython",
    "version": 3
   },
   "file_extension": ".py",
   "mimetype": "text/x-python",
   "name": "python",
   "nbconvert_exporter": "python",
   "pygments_lexer": "ipython3",
   "version": "3.8.10"
  },
  "orig_nbformat": 4
 },
 "nbformat": 4,
 "nbformat_minor": 2
}
