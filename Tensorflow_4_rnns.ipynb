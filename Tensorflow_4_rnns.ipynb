{
 "cells": [
  {
   "cell_type": "code",
   "execution_count": 15,
   "metadata": {},
   "outputs": [],
   "source": [
    "import os\n",
    "os.environ['TF_CPP_MIN_LOG_LEVEL'] = '2'\n",
    "import tensorflow as tf"
   ]
  },
  {
   "cell_type": "code",
   "execution_count": 16,
   "metadata": {},
   "outputs": [],
   "source": [
    "from tensorflow import keras\n",
    "from tensorflow.keras import layers, regularizers\n",
    "from tensorflow.keras.datasets import mnist"
   ]
  },
  {
   "cell_type": "code",
   "execution_count": 5,
   "metadata": {},
   "outputs": [],
   "source": [
    "#physical_devices =  tf.config.list_physical_devices('GPU')\n",
    "#tf.config.experimental.set_memory_growth(physical_devices[0], enable=True)"
   ]
  },
  {
   "cell_type": "code",
   "execution_count": 18,
   "metadata": {},
   "outputs": [],
   "source": [
    "(x_train, y_train), (x_test, y_test) = mnist.load_data()\n",
    "x_train = x_train.astype(\"float32\") / 255.0\n",
    "x_test = x_test.astype(\"float32\") / 255.0"
   ]
  },
  {
   "cell_type": "code",
   "execution_count": 19,
   "metadata": {},
   "outputs": [
    {
     "name": "stdout",
     "output_type": "stream",
     "text": [
      "Model: \"sequential_5\"\n",
      "_________________________________________________________________\n",
      " Layer (type)                Output Shape              Param #   \n",
      "=================================================================\n",
      " simple_rnn_10 (SimpleRNN)   (None, None, 256)         72960     \n",
      "                                                                 \n",
      " simple_rnn_11 (SimpleRNN)   (None, 256)               131328    \n",
      "                                                                 \n",
      " dense_5 (Dense)             (None, 10)                2570      \n",
      "                                                                 \n",
      "=================================================================\n",
      "Total params: 206,858\n",
      "Trainable params: 206,858\n",
      "Non-trainable params: 0\n",
      "_________________________________________________________________\n",
      "None\n",
      "Epoch 1/10\n",
      "938/938 - 119s - loss: 0.3032 - accuracy: 0.9086 - 119s/epoch - 127ms/step\n",
      "Epoch 2/10\n",
      "938/938 - 114s - loss: 0.1908 - accuracy: 0.9445 - 114s/epoch - 121ms/step\n",
      "Epoch 3/10\n",
      "938/938 - 113s - loss: 0.1557 - accuracy: 0.9545 - 113s/epoch - 121ms/step\n",
      "Epoch 4/10\n",
      "938/938 - 118s - loss: 0.1502 - accuracy: 0.9562 - 118s/epoch - 126ms/step\n",
      "Epoch 5/10\n",
      "938/938 - 152s - loss: 0.1339 - accuracy: 0.9612 - 152s/epoch - 162ms/step\n",
      "Epoch 6/10\n",
      "938/938 - 138s - loss: 0.1390 - accuracy: 0.9602 - 138s/epoch - 147ms/step\n",
      "Epoch 7/10\n",
      "938/938 - 123s - loss: 0.1369 - accuracy: 0.9599 - 123s/epoch - 132ms/step\n",
      "Epoch 8/10\n",
      "938/938 - 165s - loss: 0.1312 - accuracy: 0.9616 - 165s/epoch - 176ms/step\n",
      "Epoch 9/10\n",
      "938/938 - 169s - loss: 0.1319 - accuracy: 0.9617 - 169s/epoch - 180ms/step\n",
      "Epoch 10/10\n",
      "938/938 - 179s - loss: 0.1356 - accuracy: 0.9613 - 179s/epoch - 191ms/step\n",
      "157/157 - 4s - loss: 0.1137 - accuracy: 0.9677 - 4s/epoch - 27ms/step\n"
     ]
    },
    {
     "data": {
      "text/plain": [
       "[0.11370422691106796, 0.9677000045776367]"
      ]
     },
     "execution_count": 19,
     "metadata": {},
     "output_type": "execute_result"
    }
   ],
   "source": [
    "model = keras.Sequential()\n",
    "model.add(keras.Input(shape=(None, 28)))\n",
    "model.add(\n",
    "    layers.SimpleRNN(256, return_sequences=True, activation = 'tanh')\n",
    ")\n",
    "model.add(layers.SimpleRNN(256, activation='tanh'))\n",
    "model.add(layers.Dense(10))\n",
    "\n",
    "print(model.summary())\n",
    "\n",
    "model.compile(\n",
    "    loss = keras.losses.SparseCategoricalCrossentropy(from_logits=True),\n",
    "    optimizer = keras.optimizers.Adam(lr=0.001),\n",
    "    metrics=[\"accuracy\"],\n",
    ")\n",
    "\n",
    "model.fit(x_train, y_train, batch_size=64, epochs=10, verbose=2)\n",
    "model.evaluate(x_test, y_test, batch_size=64, verbose=2)"
   ]
  }
 ],
 "metadata": {
  "interpreter": {
   "hash": "5605bb67e93225c6ae5eb49f24da2ebaff2ea2daace0bd025e4eaef9132299fe"
  },
  "kernelspec": {
   "display_name": "Python 3.8.0 ('tf2.x')",
   "language": "python",
   "name": "python3"
  },
  "language_info": {
   "codemirror_mode": {
    "name": "ipython",
    "version": 3
   },
   "file_extension": ".py",
   "mimetype": "text/x-python",
   "name": "python",
   "nbconvert_exporter": "python",
   "pygments_lexer": "ipython3",
   "version": "3.8.0"
  },
  "orig_nbformat": 4
 },
 "nbformat": 4,
 "nbformat_minor": 2
}
